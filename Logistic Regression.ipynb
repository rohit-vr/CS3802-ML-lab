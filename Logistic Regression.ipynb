{
 "cells": [
  {
   "cell_type": "code",
   "execution_count": 1,
   "id": "99a9dd52-4aae-4a00-9b29-61c9032860c5",
   "metadata": {},
   "outputs": [
    {
     "name": "stdout",
     "output_type": "stream",
     "text": [
      "              precision    recall  f1-score   support\n",
      "\n",
      "           0       0.32      1.00      0.48       367\n",
      "           1       0.00      0.00      0.00       784\n",
      "\n",
      "    accuracy                           0.32      1151\n",
      "   macro avg       0.16      0.50      0.24      1151\n",
      "weighted avg       0.10      0.32      0.15      1151\n",
      "\n"
     ]
    },
    {
     "name": "stderr",
     "output_type": "stream",
     "text": [
      "C:\\Users\\MSI\\anaconda3\\Lib\\site-packages\\sklearn\\base.py:432: UserWarning: X has feature names, but LogisticRegression was fitted without feature names\n",
      "  warnings.warn(\n",
      "C:\\Users\\MSI\\anaconda3\\Lib\\site-packages\\sklearn\\metrics\\_classification.py:1344: UndefinedMetricWarning: Precision and F-score are ill-defined and being set to 0.0 in labels with no predicted samples. Use `zero_division` parameter to control this behavior.\n",
      "  _warn_prf(average, modifier, msg_start, len(result))\n",
      "C:\\Users\\MSI\\anaconda3\\Lib\\site-packages\\sklearn\\metrics\\_classification.py:1344: UndefinedMetricWarning: Precision and F-score are ill-defined and being set to 0.0 in labels with no predicted samples. Use `zero_division` parameter to control this behavior.\n",
      "  _warn_prf(average, modifier, msg_start, len(result))\n",
      "C:\\Users\\MSI\\anaconda3\\Lib\\site-packages\\sklearn\\metrics\\_classification.py:1344: UndefinedMetricWarning: Precision and F-score are ill-defined and being set to 0.0 in labels with no predicted samples. Use `zero_division` parameter to control this behavior.\n",
      "  _warn_prf(average, modifier, msg_start, len(result))\n"
     ]
    }
   ],
   "source": [
    "import pandas as pd\n",
    "data=pd.read_csv(r\"C:\\Users\\MSI\\Downloads\\telecom_customer_churn.csv\")\n",
    "data=data.drop(['Customer ID','Gender','Married','Offer','Zip Code','Latitude','Longitude','City','Churn Category','Churn Reason'],axis=1)\n",
    "\n",
    "drop=[\n",
    " 'Avg Monthly Long Distance Charges',\n",
    " 'Multiple Lines',\n",
    " 'Avg Monthly GB Download',\n",
    " 'Online Security',\n",
    " 'Online Backup',\n",
    " 'Device Protection Plan',\n",
    " 'Premium Tech Support',\n",
    " 'Streaming TV',\n",
    " 'Streaming Movies',\n",
    " 'Streaming Music',\n",
    " 'Unlimited Data']\n",
    "\n",
    "data=data.dropna(subset=drop)\n",
    "\n",
    "y=data.iloc[:,-1]\n",
    "df=data.iloc[:,:-1]\n",
    "\n",
    "val=['Online Backup','Device Protection Plan','Premium Tech Support','Streaming TV',\n",
    "     'Phone Service','Multiple Lines','Internet Service','Online Security','Streaming Movies','Streaming Music','Unlimited Data','Paperless Billing']\n",
    "for i in val:\n",
    "    df[i]=df[i].map({'Yes':1,'No':0})\n",
    "\n",
    "Payment=pd.get_dummies(df['Payment Method'],dtype='int')\n",
    "df=df.join(Payment)\n",
    "\n",
    "Type=pd.get_dummies(df['Internet Type'],dtype='int')\n",
    "df=df.join(Type)\n",
    "\n",
    "Contract=pd.get_dummies(df['Contract'],dtype='int')\n",
    "df=df.join(Contract)\n",
    "\n",
    "df=df.drop(['Payment Method','Internet Type','Contract',],axis=1)\n",
    "\n",
    "\n",
    "\n",
    "\n",
    "\n",
    "\n",
    "from sklearn.model_selection import train_test_split\n",
    "\n",
    "x_train, x_test, y_train, y_test = train_test_split(df, y, test_size=0.25, random_state=16)\n",
    "\n",
    "from sklearn import preprocessing\n",
    "scaler = preprocessing.StandardScaler().fit(x_train)\n",
    "x_scaled = scaler.transform(x_train)\n",
    "from sklearn.linear_model import LogisticRegression\n",
    "logreg = LogisticRegression()\n",
    "logreg.fit(x_scaled,y_train)\n",
    "y_pred = logreg.predict(x_test)\n",
    "from sklearn.metrics import classification_report\n",
    "print(classification_report(y_test, y_pred))"
   ]
  },
  {
   "cell_type": "code",
   "execution_count": null,
   "id": "a92319ad-8443-4e3a-95d0-a6b6a9dbcaec",
   "metadata": {},
   "outputs": [],
   "source": []
  }
 ],
 "metadata": {
  "kernelspec": {
   "display_name": "Python 3 (ipykernel)",
   "language": "python",
   "name": "python3"
  },
  "language_info": {
   "codemirror_mode": {
    "name": "ipython",
    "version": 3
   },
   "file_extension": ".py",
   "mimetype": "text/x-python",
   "name": "python",
   "nbconvert_exporter": "python",
   "pygments_lexer": "ipython3",
   "version": "3.11.7"
  }
 },
 "nbformat": 4,
 "nbformat_minor": 5
}
